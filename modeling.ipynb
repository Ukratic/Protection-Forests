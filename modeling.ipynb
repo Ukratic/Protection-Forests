{
 "cells": [
  {
   "cell_type": "code",
   "execution_count": 19,
   "metadata": {},
   "outputs": [],
   "source": [
    "import pandas as pd\n",
    "import openpyxl\n",
    "import matplotlib.pyplot as plt\n",
    "import plotly.express as px\n",
    "import numpy as np\n",
    "\n",
    "from sklearn.model_selection import train_test_split\n",
    "from sklearn.preprocessing import OneHotEncoder, StandardScaler, OrdinalEncoder, MinMaxScaler\n",
    "from sklearn.metrics import f1_score, r2_score, classification_report\n",
    "from sklearn.compose import ColumnTransformer\n",
    "from sklearn.ensemble import HistGradientBoostingRegressor, HistGradientBoostingClassifier\n",
    "from sklearn.naive_bayes import CategoricalNB"
   ]
  },
  {
   "cell_type": "code",
   "execution_count": null,
   "metadata": {},
   "outputs": [],
   "source": [
    "data = pd.read_excel('NFI_data/modified files/big_merge_meteo_sat.xlsx')\n",
    "data.drop('Unnamed: 0',axis=1,inplace=True)"
   ]
  },
  {
   "cell_type": "markdown",
   "metadata": {},
   "source": [
    "### Selecting features and modeling"
   ]
  },
  {
   "cell_type": "markdown",
   "metadata": {},
   "source": [
    "Other models were attempted at the same time by other members of the team. Among them :<br>\n",
    "- Logistic Regression (TAUX_COUV_RAJ)\n",
    "- Linear Regression, Lasso, Ridge (ACCR & SURF_TER_HA)\n",
    "\n",
    "Hist Gradient Boosting was chosen in part for its ability to easily handle missing values."
   ]
  },
  {
   "cell_type": "markdown",
   "metadata": {},
   "source": [
    "Creating 2 new features to simulate satellite data we don't have"
   ]
  },
  {
   "cell_type": "code",
   "execution_count": 3,
   "metadata": {},
   "outputs": [],
   "source": [
    "# adding aridity index\n",
    "data[\"AI\"] = data['PRCP_GROWTH'] / data['TAVE_GROWTH']\n",
    "# adding H/D index\n",
    "data[\"H_D\"] = data['HAUTEUR_ARBRE'] / data['DBH']"
   ]
  },
  {
   "cell_type": "markdown",
   "metadata": {},
   "source": [
    "#### 1. Regression targeting <a href=\"https://en.wikipedia.org/wiki/Basal_area\">basal area</a> or forest regeneration coverage rate."
   ]
  },
  {
   "cell_type": "code",
   "execution_count": 4,
   "metadata": {},
   "outputs": [],
   "source": [
    "features_list = ['ALT', 'SLOPE25','AGE_PPL','PRCP_G_S','PRCP_S_S','TAVE_GROWTH','TAVE_AVG','STR_PPL','ORIENTATION','TAILLE_PPL','LFI', 'INTENSITE_EXPLOIT', 'MODE_REGEN', 'TYP_RAJ_PPL',\n",
    "                    'RELIEF','ESPECE_DOM','FEU_RES','TYPE_FORET','TRACES_FEU','TYPE_FORET305','PRODREG','NDVI', 'EVI', 'NDMI', 'NDWI','DSWI','AI','H_D','HT_VEG', 'REBOISEMENT_AN',\n",
    "                    'PERI_CHENAUX', 'PERI_COULEES', 'PERI_AVALANCH', 'PERI_CHUTES']\n",
    "target_variable =  ['ACCR']\n",
    "\n",
    "dcopy = data.loc[data['ACCR'].notnull()]\n",
    "X = dcopy.loc[:, features_list]\n",
    "Y = dcopy.loc[:, target_variable]"
   ]
  },
  {
   "cell_type": "code",
   "execution_count": 5,
   "metadata": {},
   "outputs": [],
   "source": [
    "X_train, X_test, Y_train, Y_test = train_test_split(X, Y, test_size=0.20)"
   ]
  },
  {
   "cell_type": "code",
   "execution_count": null,
   "metadata": {},
   "outputs": [],
   "source": [
    "#preprocessing cell\n",
    "numeric_features = ['ALT', 'SLOPE25','AGE_PPL','PRCP_G_S','PRCP_S_S','TAVE_GROWTH','TAVE_AVG','NDVI', 'EVI', 'NDMI', 'NDWI','DSWI','AI','H_D']\n",
    "categorical_features = ['STR_PPL','ORIENTATION','LFI','RELIEF','ESPECE_DOM','FEU_RES','TYPE_FORET','TYPE_FORET305','TRACES_FEU','PRODREG','INTENSITE_EXPLOIT','MODE_REGEN','TYP_RAJ_PPL',\n",
    "                        'PERI_CHENAUX', 'PERI_COULEES', 'PERI_AVALANCH', 'PERI_CHUTES']\n",
    "ordinal_categorical_features = ['HT_VEG', 'REBOISEMENT_AN', 'TAILLE_PPL']\n",
    "\n",
    "numeric_transformer = StandardScaler()\n",
    "categorical_transformer = OneHotEncoder(drop='first')\n",
    "ordinal_transformer = OrdinalEncoder(encoded_missing_value=0,handle_unknown='use_encoded_value', unknown_value=-1)\n",
    "\n",
    "preprocessor = ColumnTransformer(\n",
    "    transformers=[\n",
    "        ('num', numeric_transformer, numeric_features),\n",
    "        ('cat', categorical_transformer, categorical_features),\n",
    "        ('ordi', ordinal_transformer, ordinal_categorical_features)\n",
    "    ])\n",
    "\n",
    "X_train = preprocessor.fit_transform(X_train)\n",
    "X_test = preprocessor.transform(X_test)"
   ]
  },
  {
   "cell_type": "code",
   "execution_count": 62,
   "metadata": {},
   "outputs": [
    {
     "data": {
      "text/html": [
       "<style>#sk-container-id-1 {color: black;background-color: white;}#sk-container-id-1 pre{padding: 0;}#sk-container-id-1 div.sk-toggleable {background-color: white;}#sk-container-id-1 label.sk-toggleable__label {cursor: pointer;display: block;width: 100%;margin-bottom: 0;padding: 0.3em;box-sizing: border-box;text-align: center;}#sk-container-id-1 label.sk-toggleable__label-arrow:before {content: \"▸\";float: left;margin-right: 0.25em;color: #696969;}#sk-container-id-1 label.sk-toggleable__label-arrow:hover:before {color: black;}#sk-container-id-1 div.sk-estimator:hover label.sk-toggleable__label-arrow:before {color: black;}#sk-container-id-1 div.sk-toggleable__content {max-height: 0;max-width: 0;overflow: hidden;text-align: left;background-color: #f0f8ff;}#sk-container-id-1 div.sk-toggleable__content pre {margin: 0.2em;color: black;border-radius: 0.25em;background-color: #f0f8ff;}#sk-container-id-1 input.sk-toggleable__control:checked~div.sk-toggleable__content {max-height: 200px;max-width: 100%;overflow: auto;}#sk-container-id-1 input.sk-toggleable__control:checked~label.sk-toggleable__label-arrow:before {content: \"▾\";}#sk-container-id-1 div.sk-estimator input.sk-toggleable__control:checked~label.sk-toggleable__label {background-color: #d4ebff;}#sk-container-id-1 div.sk-label input.sk-toggleable__control:checked~label.sk-toggleable__label {background-color: #d4ebff;}#sk-container-id-1 input.sk-hidden--visually {border: 0;clip: rect(1px 1px 1px 1px);clip: rect(1px, 1px, 1px, 1px);height: 1px;margin: -1px;overflow: hidden;padding: 0;position: absolute;width: 1px;}#sk-container-id-1 div.sk-estimator {font-family: monospace;background-color: #f0f8ff;border: 1px dotted black;border-radius: 0.25em;box-sizing: border-box;margin-bottom: 0.5em;}#sk-container-id-1 div.sk-estimator:hover {background-color: #d4ebff;}#sk-container-id-1 div.sk-parallel-item::after {content: \"\";width: 100%;border-bottom: 1px solid gray;flex-grow: 1;}#sk-container-id-1 div.sk-label:hover label.sk-toggleable__label {background-color: #d4ebff;}#sk-container-id-1 div.sk-serial::before {content: \"\";position: absolute;border-left: 1px solid gray;box-sizing: border-box;top: 0;bottom: 0;left: 50%;z-index: 0;}#sk-container-id-1 div.sk-serial {display: flex;flex-direction: column;align-items: center;background-color: white;padding-right: 0.2em;padding-left: 0.2em;position: relative;}#sk-container-id-1 div.sk-item {position: relative;z-index: 1;}#sk-container-id-1 div.sk-parallel {display: flex;align-items: stretch;justify-content: center;background-color: white;position: relative;}#sk-container-id-1 div.sk-item::before, #sk-container-id-1 div.sk-parallel-item::before {content: \"\";position: absolute;border-left: 1px solid gray;box-sizing: border-box;top: 0;bottom: 0;left: 50%;z-index: -1;}#sk-container-id-1 div.sk-parallel-item {display: flex;flex-direction: column;z-index: 1;position: relative;background-color: white;}#sk-container-id-1 div.sk-parallel-item:first-child::after {align-self: flex-end;width: 50%;}#sk-container-id-1 div.sk-parallel-item:last-child::after {align-self: flex-start;width: 50%;}#sk-container-id-1 div.sk-parallel-item:only-child::after {width: 0;}#sk-container-id-1 div.sk-dashed-wrapped {border: 1px dashed gray;margin: 0 0.4em 0.5em 0.4em;box-sizing: border-box;padding-bottom: 0.4em;background-color: white;}#sk-container-id-1 div.sk-label label {font-family: monospace;font-weight: bold;display: inline-block;line-height: 1.2em;}#sk-container-id-1 div.sk-label-container {text-align: center;}#sk-container-id-1 div.sk-container {/* jupyter's `normalize.less` sets `[hidden] { display: none; }` but bootstrap.min.css set `[hidden] { display: none !important; }` so we also need the `!important` here to be able to override the default hidden behavior on the sphinx rendered scikit-learn.org. See: https://github.com/scikit-learn/scikit-learn/issues/21755 */display: inline-block !important;position: relative;}#sk-container-id-1 div.sk-text-repr-fallback {display: none;}</style><div id=\"sk-container-id-1\" class=\"sk-top-container\"><div class=\"sk-text-repr-fallback\"><pre>HistGradientBoostingRegressor(max_depth=16, max_iter=200, max_leaf_nodes=50,\n",
       "                              min_samples_leaf=4, random_state=123)</pre><b>In a Jupyter environment, please rerun this cell to show the HTML representation or trust the notebook. <br />On GitHub, the HTML representation is unable to render, please try loading this page with nbviewer.org.</b></div><div class=\"sk-container\" hidden><div class=\"sk-item\"><div class=\"sk-estimator sk-toggleable\"><input class=\"sk-toggleable__control sk-hidden--visually\" id=\"sk-estimator-id-1\" type=\"checkbox\" checked><label for=\"sk-estimator-id-1\" class=\"sk-toggleable__label sk-toggleable__label-arrow\">HistGradientBoostingRegressor</label><div class=\"sk-toggleable__content\"><pre>HistGradientBoostingRegressor(max_depth=16, max_iter=200, max_leaf_nodes=50,\n",
       "                              min_samples_leaf=4, random_state=123)</pre></div></div></div></div></div>"
      ],
      "text/plain": [
       "HistGradientBoostingRegressor(max_depth=16, max_iter=200, max_leaf_nodes=50,\n",
       "                              min_samples_leaf=4, random_state=123)"
      ]
     },
     "execution_count": 62,
     "metadata": {},
     "output_type": "execute_result"
    }
   ],
   "source": [
    "hgbr = HistGradientBoostingRegressor(max_iter= 200,min_samples_leaf= 4,max_leaf_nodes= 50, max_depth= 16,random_state=123)\n",
    "hgbr.fit(X_train, Y_train.values.ravel())"
   ]
  },
  {
   "cell_type": "markdown",
   "metadata": {},
   "source": [
    "Predictions on SURF_TER_HA (basal area)"
   ]
  },
  {
   "cell_type": "code",
   "execution_count": 52,
   "metadata": {},
   "outputs": [
    {
     "name": "stdout",
     "output_type": "stream",
     "text": [
      "r2-score on train set :  0.9014736438268208\n",
      "r2-score on test set :  0.47013498416860455\n"
     ]
    }
   ],
   "source": [
    "train_pred = hgbr.predict(X_train)\n",
    "test_pred = hgbr.predict(X_test)\n",
    "\n",
    "pred_hgbr_ba_3 = r2_score(Y_test, test_pred)\n",
    "print(\"r2-score on train set : \", r2_score(Y_train, train_pred))\n",
    "print(\"r2-score on test set : \", pred_hgbr_ba_3)"
   ]
  },
  {
   "cell_type": "markdown",
   "metadata": {},
   "source": [
    "Predictions on ACCR (growth)"
   ]
  },
  {
   "cell_type": "code",
   "execution_count": 119,
   "metadata": {},
   "outputs": [
    {
     "name": "stdout",
     "output_type": "stream",
     "text": [
      "r2-score on train set :  0.9315655608097521\n",
      "r2-score on test set :  0.29999382789702955\n"
     ]
    }
   ],
   "source": [
    "train_pred = hgbr.predict(X_train)\n",
    "test_pred = hgbr.predict(X_test)\n",
    "\n",
    "pred_hgbr_growth_3 = r2_score(Y_test, test_pred)\n",
    "print(\"r2-score on train set : \", r2_score(Y_train, train_pred))\n",
    "print(\"r2-score on test set : \", pred_hgbr_growth_3)"
   ]
  },
  {
   "cell_type": "markdown",
   "metadata": {},
   "source": [
    "Predictions on TAUX_COUV_RAJ (forest regeneration coverage rate)"
   ]
  },
  {
   "cell_type": "code",
   "execution_count": 8,
   "metadata": {},
   "outputs": [
    {
     "name": "stdout",
     "output_type": "stream",
     "text": [
      "r2-score on train set :  0.9821517460833592\n",
      "r2-score on test set :  0.8705672119457397\n"
     ]
    }
   ],
   "source": [
    "train_pred = hgbr.predict(X_train)\n",
    "test_pred = hgbr.predict(X_test)\n",
    "\n",
    "pred_hgbr_regen_1 = r2_score(Y_test, test_pred)\n",
    "print(\"r2-score on train set : \", r2_score(Y_train, train_pred))\n",
    "print(\"r2-score on test set : \", pred_hgbr_regen_1)"
   ]
  },
  {
   "cell_type": "markdown",
   "metadata": {},
   "source": [
    "Optimizing hyperparameters with gridsearch"
   ]
  },
  {
   "cell_type": "code",
   "execution_count": 32,
   "metadata": {},
   "outputs": [
    {
     "name": "stdout",
     "output_type": "stream",
     "text": [
      "Best: 0.416188 using {'learning_rate': 0.1, 'max_depth': 16, 'max_iter': 150, 'max_leaf_nodes': 50, 'min_samples_leaf': 2}\n"
     ]
    }
   ],
   "source": [
    "from sklearn.model_selection import GridSearchCV\n",
    "\n",
    "params = {\n",
    "    'learning_rate': [0.1,0.05,0.2],\n",
    "    'max_leaf_nodes': [20,30,40,50,60],\n",
    "    'max_depth' : [6,8,10,12,16],\n",
    "    'min_samples_leaf' : [2,4,6,8,10],\n",
    "    'max_iter' : [75,100,125,150]\n",
    "}\n",
    "\n",
    "gridsearch = GridSearchCV(hgbr, param_grid = params, n_jobs=-1, cv = 7,scoring='r2') \n",
    "gridsearch.fit(X_train, Y_train.values.ravel())\n",
    "print(\"Best: %f using %s\" % (gridsearch.best_score_, gridsearch.best_params_))"
   ]
  },
  {
   "cell_type": "code",
   "execution_count": 33,
   "metadata": {},
   "outputs": [
    {
     "name": "stdout",
     "output_type": "stream",
     "text": [
      "r2-score on train set :  0.8346012655762125\n",
      "r2-score on test set :  0.4592261677384031\n"
     ]
    }
   ],
   "source": [
    "train_pred = gridsearch.predict(X_train)\n",
    "test_pred = gridsearch.predict(X_test)\n",
    "\n",
    "print(\"r2-score on train set : \", r2_score(Y_train, train_pred))\n",
    "print(\"r2-score on test set : \", r2_score(Y_test, test_pred))"
   ]
  },
  {
   "cell_type": "markdown",
   "metadata": {},
   "source": [
    "#### 2. Multi-class classification targeting forest regeneration coverage rate."
   ]
  },
  {
   "cell_type": "code",
   "execution_count": 243,
   "metadata": {},
   "outputs": [],
   "source": [
    "target_variable =  ['TAUX_COUV_RAJ']\n",
    "\n",
    "dcopy = data.loc[data['TAUX_COUV_RAJ']>=0]\n",
    "X = dcopy.loc[:, features_list]\n",
    "#X = dcopy.loc[:, features_list].notnull()\n",
    "Y = dcopy.loc[:, target_variable]\n",
    "X_train, X_test, Y_train, Y_test = train_test_split(X, Y, test_size=0.2, random_state=1)"
   ]
  },
  {
   "cell_type": "code",
   "execution_count": 9,
   "metadata": {},
   "outputs": [],
   "source": [
    "#re-run preprocessing cell above"
   ]
  },
  {
   "cell_type": "code",
   "execution_count": 347,
   "metadata": {},
   "outputs": [
    {
     "name": "stdout",
     "output_type": "stream",
     "text": [
      "f1-score on train set :  0.4386664287953212\n",
      "f1-score on test set :  0.4473877293749791\n"
     ]
    }
   ],
   "source": [
    "cnb = CategoricalNB()\n",
    "cnb.fit(X_train, Y_train.values.ravel())\n",
    "\n",
    "train_pred = cnb.predict(X_train)\n",
    "test_pred = cnb.predict(X_test)\n",
    "\n",
    "pred_cat_nb_1 = f1_score(Y_test, test_pred,average='weighted')\n",
    "print(\"f1-score on train set : \", f1_score(Y_train, train_pred,average='weighted'))\n",
    "print(\"f1-score on test set : \", pred_cat_nb_1)"
   ]
  },
  {
   "cell_type": "code",
   "execution_count": 197,
   "metadata": {},
   "outputs": [
    {
     "data": {
      "text/html": [
       "<style>#sk-container-id-6 {color: black;background-color: white;}#sk-container-id-6 pre{padding: 0;}#sk-container-id-6 div.sk-toggleable {background-color: white;}#sk-container-id-6 label.sk-toggleable__label {cursor: pointer;display: block;width: 100%;margin-bottom: 0;padding: 0.3em;box-sizing: border-box;text-align: center;}#sk-container-id-6 label.sk-toggleable__label-arrow:before {content: \"▸\";float: left;margin-right: 0.25em;color: #696969;}#sk-container-id-6 label.sk-toggleable__label-arrow:hover:before {color: black;}#sk-container-id-6 div.sk-estimator:hover label.sk-toggleable__label-arrow:before {color: black;}#sk-container-id-6 div.sk-toggleable__content {max-height: 0;max-width: 0;overflow: hidden;text-align: left;background-color: #f0f8ff;}#sk-container-id-6 div.sk-toggleable__content pre {margin: 0.2em;color: black;border-radius: 0.25em;background-color: #f0f8ff;}#sk-container-id-6 input.sk-toggleable__control:checked~div.sk-toggleable__content {max-height: 200px;max-width: 100%;overflow: auto;}#sk-container-id-6 input.sk-toggleable__control:checked~label.sk-toggleable__label-arrow:before {content: \"▾\";}#sk-container-id-6 div.sk-estimator input.sk-toggleable__control:checked~label.sk-toggleable__label {background-color: #d4ebff;}#sk-container-id-6 div.sk-label input.sk-toggleable__control:checked~label.sk-toggleable__label {background-color: #d4ebff;}#sk-container-id-6 input.sk-hidden--visually {border: 0;clip: rect(1px 1px 1px 1px);clip: rect(1px, 1px, 1px, 1px);height: 1px;margin: -1px;overflow: hidden;padding: 0;position: absolute;width: 1px;}#sk-container-id-6 div.sk-estimator {font-family: monospace;background-color: #f0f8ff;border: 1px dotted black;border-radius: 0.25em;box-sizing: border-box;margin-bottom: 0.5em;}#sk-container-id-6 div.sk-estimator:hover {background-color: #d4ebff;}#sk-container-id-6 div.sk-parallel-item::after {content: \"\";width: 100%;border-bottom: 1px solid gray;flex-grow: 1;}#sk-container-id-6 div.sk-label:hover label.sk-toggleable__label {background-color: #d4ebff;}#sk-container-id-6 div.sk-serial::before {content: \"\";position: absolute;border-left: 1px solid gray;box-sizing: border-box;top: 0;bottom: 0;left: 50%;z-index: 0;}#sk-container-id-6 div.sk-serial {display: flex;flex-direction: column;align-items: center;background-color: white;padding-right: 0.2em;padding-left: 0.2em;position: relative;}#sk-container-id-6 div.sk-item {position: relative;z-index: 1;}#sk-container-id-6 div.sk-parallel {display: flex;align-items: stretch;justify-content: center;background-color: white;position: relative;}#sk-container-id-6 div.sk-item::before, #sk-container-id-6 div.sk-parallel-item::before {content: \"\";position: absolute;border-left: 1px solid gray;box-sizing: border-box;top: 0;bottom: 0;left: 50%;z-index: -1;}#sk-container-id-6 div.sk-parallel-item {display: flex;flex-direction: column;z-index: 1;position: relative;background-color: white;}#sk-container-id-6 div.sk-parallel-item:first-child::after {align-self: flex-end;width: 50%;}#sk-container-id-6 div.sk-parallel-item:last-child::after {align-self: flex-start;width: 50%;}#sk-container-id-6 div.sk-parallel-item:only-child::after {width: 0;}#sk-container-id-6 div.sk-dashed-wrapped {border: 1px dashed gray;margin: 0 0.4em 0.5em 0.4em;box-sizing: border-box;padding-bottom: 0.4em;background-color: white;}#sk-container-id-6 div.sk-label label {font-family: monospace;font-weight: bold;display: inline-block;line-height: 1.2em;}#sk-container-id-6 div.sk-label-container {text-align: center;}#sk-container-id-6 div.sk-container {/* jupyter's `normalize.less` sets `[hidden] { display: none; }` but bootstrap.min.css set `[hidden] { display: none !important; }` so we also need the `!important` here to be able to override the default hidden behavior on the sphinx rendered scikit-learn.org. See: https://github.com/scikit-learn/scikit-learn/issues/21755 */display: inline-block !important;position: relative;}#sk-container-id-6 div.sk-text-repr-fallback {display: none;}</style><div id=\"sk-container-id-6\" class=\"sk-top-container\"><div class=\"sk-text-repr-fallback\"><pre>HistGradientBoostingClassifier(learning_rate=0.2, max_depth=20, max_iter=50,\n",
       "                               max_leaf_nodes=16, min_samples_leaf=4,\n",
       "                               random_state=123)</pre><b>In a Jupyter environment, please rerun this cell to show the HTML representation or trust the notebook. <br />On GitHub, the HTML representation is unable to render, please try loading this page with nbviewer.org.</b></div><div class=\"sk-container\" hidden><div class=\"sk-item\"><div class=\"sk-estimator sk-toggleable\"><input class=\"sk-toggleable__control sk-hidden--visually\" id=\"sk-estimator-id-6\" type=\"checkbox\" checked><label for=\"sk-estimator-id-6\" class=\"sk-toggleable__label sk-toggleable__label-arrow\">HistGradientBoostingClassifier</label><div class=\"sk-toggleable__content\"><pre>HistGradientBoostingClassifier(learning_rate=0.2, max_depth=20, max_iter=50,\n",
       "                               max_leaf_nodes=16, min_samples_leaf=4,\n",
       "                               random_state=123)</pre></div></div></div></div></div>"
      ],
      "text/plain": [
       "HistGradientBoostingClassifier(learning_rate=0.2, max_depth=20, max_iter=50,\n",
       "                               max_leaf_nodes=16, min_samples_leaf=4,\n",
       "                               random_state=123)"
      ]
     },
     "execution_count": 197,
     "metadata": {},
     "output_type": "execute_result"
    }
   ],
   "source": [
    "hgbc = HistGradientBoostingClassifier(learning_rate=0.2,max_depth=20,max_iter=50, max_leaf_nodes=16,min_samples_leaf=4,random_state=123)\n",
    "hgbc.fit(X_train, Y_train.values.ravel())"
   ]
  },
  {
   "cell_type": "code",
   "execution_count": 29,
   "metadata": {},
   "outputs": [
    {
     "name": "stdout",
     "output_type": "stream",
     "text": [
      "f1-score on train set :  0.9244015131217471\n",
      "f1-score on test set :  0.6146957225073904\n"
     ]
    }
   ],
   "source": [
    "train_pred = hgbc.predict(X_train)\n",
    "test_pred = hgbc.predict(X_test)\n",
    "\n",
    "pred_hgbc_regen_2 = f1_score(Y_test, test_pred,average='weighted')\n",
    "print(\"f1-score on train set : \", f1_score(Y_train, train_pred,average='weighted'))\n",
    "print(\"f1-score on test set : \", pred_hgbc_regen_2)"
   ]
  },
  {
   "cell_type": "code",
   "execution_count": 250,
   "metadata": {},
   "outputs": [
    {
     "name": "stdout",
     "output_type": "stream",
     "text": [
      "              precision    recall  f1-score   support\n",
      "\n",
      "           1       1.00      1.00      1.00        89\n",
      "           2       0.64      0.71      0.67       477\n",
      "           3       0.43      0.43      0.43       439\n",
      "           4       0.35      0.33      0.34       239\n",
      "           5       0.27      0.22      0.25       116\n",
      "           6       0.28      0.17      0.21        75\n",
      "\n",
      "    accuracy                           0.51      1435\n",
      "   macro avg       0.49      0.48      0.48      1435\n",
      "weighted avg       0.50      0.51      0.50      1435\n",
      "\n"
     ]
    }
   ],
   "source": [
    "print(classification_report(Y_test,test_pred))"
   ]
  },
  {
   "cell_type": "markdown",
   "metadata": {},
   "source": [
    "TAUX_COUV_RAJ values (after modifications in this notebook, not the excel file): \n",
    "- 1 : No regeneration DG < 1%\n",
    "- 2 : Regeneration coverage rate 1 to 9\n",
    "- 3 : Regeneration coverage rate 10 to 25\n",
    "- 4 : Regeneration coverage rate 26 to 50% \n",
    "- 5 : Regeneration coverage rate 51 to 75\n",
    "- 6 : Regeneration coverage rate 76 to 100%."
   ]
  },
  {
   "cell_type": "markdown",
   "metadata": {},
   "source": [
    "The presence of a significant number of N/A doesn't help us much, as well as the non-linearity of the class distribution."
   ]
  },
  {
   "cell_type": "markdown",
   "metadata": {},
   "source": [
    "These attempts were made with features that don't require any recent data collection in the field. All efforts of the team on various other models with a similar approach yielded similar mixed results."
   ]
  },
  {
   "cell_type": "markdown",
   "metadata": {},
   "source": [
    "##### 3. Adding field data to the mix"
   ]
  },
  {
   "cell_type": "code",
   "execution_count": 84,
   "metadata": {},
   "outputs": [],
   "source": [
    "features_list = ['ALT', 'SLOPE25','AGE_PPL','PRCP_G_S','PRCP_S_S','TAVE_GROWTH','TAVE_AVG','STR_PPL','ORIENTATION','TAILLE_PPL','LFI', 'INTENSITE_EXPLOIT', 'MODE_REGEN', 'TYP_RAJ_PPL',\n",
    "                    'RELIEF','ESPECE_DOM','FEU_RES','TYPE_FORET','TRACES_FEU','TYPE_FORET305','PRODREG','NDVI', 'EVI', 'NDMI', 'NDWI','DSWI','AI','H_D','HT_VEG', 'REBOISEMENT_AN',\n",
    "                    'PERI_CHENAUX', 'PERI_COULEES', 'PERI_AVALANCH', 'PERI_CHUTES', 'V_ALL']\n",
    "target_variable =  ['SURF_TER_HA']\n",
    "\n",
    "dcopy = data.loc[data['SURF_TER_HA'].notnull()]\n",
    "X = dcopy.loc[:, features_list]\n",
    "Y = dcopy.loc[:, target_variable]"
   ]
  },
  {
   "cell_type": "code",
   "execution_count": 85,
   "metadata": {},
   "outputs": [],
   "source": [
    "X_train, X_test, Y_train, Y_test = train_test_split(X, Y, test_size=0.20, random_state=0)"
   ]
  },
  {
   "cell_type": "code",
   "execution_count": 86,
   "metadata": {},
   "outputs": [],
   "source": [
    "numeric_features = ['ALT', 'SLOPE25','AGE_PPL','PRCP_G_S','PRCP_S_S','TAVE_GROWTH','TAVE_AVG','NDVI', 'EVI', 'NDMI', 'NDWI','DSWI','AI','H_D', 'V_ALL']\n",
    "categorical_features = ['STR_PPL','ORIENTATION','LFI','RELIEF','ESPECE_DOM','FEU_RES','TYPE_FORET','TYPE_FORET305','TRACES_FEU','PRODREG','INTENSITE_EXPLOIT','MODE_REGEN','TYP_RAJ_PPL',\n",
    "                        'PERI_CHENAUX', 'PERI_COULEES', 'PERI_AVALANCH', 'PERI_CHUTES']\n",
    "ordinal_categorical_features = ['HT_VEG', 'REBOISEMENT_AN', 'TAILLE_PPL']\n",
    "\n",
    "numeric_transformer = StandardScaler()\n",
    "categorical_transformer = OneHotEncoder(drop='first')\n",
    "ordinal_transformer = OrdinalEncoder(encoded_missing_value=0)\n",
    "\n",
    "preprocessor = ColumnTransformer(\n",
    "    transformers=[\n",
    "        ('num', numeric_transformer, numeric_features),\n",
    "        ('cat', categorical_transformer, categorical_features),\n",
    "        ('ordi', ordinal_transformer, ordinal_categorical_features)\n",
    "    ])\n",
    "\n",
    "X_train = preprocessor.fit_transform(X_train)\n",
    "X_test = preprocessor.transform(X_test)"
   ]
  },
  {
   "cell_type": "code",
   "execution_count": 87,
   "metadata": {},
   "outputs": [
    {
     "data": {
      "text/html": [
       "<style>#sk-container-id-9 {color: black;background-color: white;}#sk-container-id-9 pre{padding: 0;}#sk-container-id-9 div.sk-toggleable {background-color: white;}#sk-container-id-9 label.sk-toggleable__label {cursor: pointer;display: block;width: 100%;margin-bottom: 0;padding: 0.3em;box-sizing: border-box;text-align: center;}#sk-container-id-9 label.sk-toggleable__label-arrow:before {content: \"▸\";float: left;margin-right: 0.25em;color: #696969;}#sk-container-id-9 label.sk-toggleable__label-arrow:hover:before {color: black;}#sk-container-id-9 div.sk-estimator:hover label.sk-toggleable__label-arrow:before {color: black;}#sk-container-id-9 div.sk-toggleable__content {max-height: 0;max-width: 0;overflow: hidden;text-align: left;background-color: #f0f8ff;}#sk-container-id-9 div.sk-toggleable__content pre {margin: 0.2em;color: black;border-radius: 0.25em;background-color: #f0f8ff;}#sk-container-id-9 input.sk-toggleable__control:checked~div.sk-toggleable__content {max-height: 200px;max-width: 100%;overflow: auto;}#sk-container-id-9 input.sk-toggleable__control:checked~label.sk-toggleable__label-arrow:before {content: \"▾\";}#sk-container-id-9 div.sk-estimator input.sk-toggleable__control:checked~label.sk-toggleable__label {background-color: #d4ebff;}#sk-container-id-9 div.sk-label input.sk-toggleable__control:checked~label.sk-toggleable__label {background-color: #d4ebff;}#sk-container-id-9 input.sk-hidden--visually {border: 0;clip: rect(1px 1px 1px 1px);clip: rect(1px, 1px, 1px, 1px);height: 1px;margin: -1px;overflow: hidden;padding: 0;position: absolute;width: 1px;}#sk-container-id-9 div.sk-estimator {font-family: monospace;background-color: #f0f8ff;border: 1px dotted black;border-radius: 0.25em;box-sizing: border-box;margin-bottom: 0.5em;}#sk-container-id-9 div.sk-estimator:hover {background-color: #d4ebff;}#sk-container-id-9 div.sk-parallel-item::after {content: \"\";width: 100%;border-bottom: 1px solid gray;flex-grow: 1;}#sk-container-id-9 div.sk-label:hover label.sk-toggleable__label {background-color: #d4ebff;}#sk-container-id-9 div.sk-serial::before {content: \"\";position: absolute;border-left: 1px solid gray;box-sizing: border-box;top: 0;bottom: 0;left: 50%;z-index: 0;}#sk-container-id-9 div.sk-serial {display: flex;flex-direction: column;align-items: center;background-color: white;padding-right: 0.2em;padding-left: 0.2em;position: relative;}#sk-container-id-9 div.sk-item {position: relative;z-index: 1;}#sk-container-id-9 div.sk-parallel {display: flex;align-items: stretch;justify-content: center;background-color: white;position: relative;}#sk-container-id-9 div.sk-item::before, #sk-container-id-9 div.sk-parallel-item::before {content: \"\";position: absolute;border-left: 1px solid gray;box-sizing: border-box;top: 0;bottom: 0;left: 50%;z-index: -1;}#sk-container-id-9 div.sk-parallel-item {display: flex;flex-direction: column;z-index: 1;position: relative;background-color: white;}#sk-container-id-9 div.sk-parallel-item:first-child::after {align-self: flex-end;width: 50%;}#sk-container-id-9 div.sk-parallel-item:last-child::after {align-self: flex-start;width: 50%;}#sk-container-id-9 div.sk-parallel-item:only-child::after {width: 0;}#sk-container-id-9 div.sk-dashed-wrapped {border: 1px dashed gray;margin: 0 0.4em 0.5em 0.4em;box-sizing: border-box;padding-bottom: 0.4em;background-color: white;}#sk-container-id-9 div.sk-label label {font-family: monospace;font-weight: bold;display: inline-block;line-height: 1.2em;}#sk-container-id-9 div.sk-label-container {text-align: center;}#sk-container-id-9 div.sk-container {/* jupyter's `normalize.less` sets `[hidden] { display: none; }` but bootstrap.min.css set `[hidden] { display: none !important; }` so we also need the `!important` here to be able to override the default hidden behavior on the sphinx rendered scikit-learn.org. See: https://github.com/scikit-learn/scikit-learn/issues/21755 */display: inline-block !important;position: relative;}#sk-container-id-9 div.sk-text-repr-fallback {display: none;}</style><div id=\"sk-container-id-9\" class=\"sk-top-container\"><div class=\"sk-text-repr-fallback\"><pre>HistGradientBoostingRegressor(max_depth=16, max_iter=150, max_leaf_nodes=40,\n",
       "                              min_samples_leaf=4)</pre><b>In a Jupyter environment, please rerun this cell to show the HTML representation or trust the notebook. <br />On GitHub, the HTML representation is unable to render, please try loading this page with nbviewer.org.</b></div><div class=\"sk-container\" hidden><div class=\"sk-item\"><div class=\"sk-estimator sk-toggleable\"><input class=\"sk-toggleable__control sk-hidden--visually\" id=\"sk-estimator-id-9\" type=\"checkbox\" checked><label for=\"sk-estimator-id-9\" class=\"sk-toggleable__label sk-toggleable__label-arrow\">HistGradientBoostingRegressor</label><div class=\"sk-toggleable__content\"><pre>HistGradientBoostingRegressor(max_depth=16, max_iter=150, max_leaf_nodes=40,\n",
       "                              min_samples_leaf=4)</pre></div></div></div></div></div>"
      ],
      "text/plain": [
       "HistGradientBoostingRegressor(max_depth=16, max_iter=150, max_leaf_nodes=40,\n",
       "                              min_samples_leaf=4)"
      ]
     },
     "execution_count": 87,
     "metadata": {},
     "output_type": "execute_result"
    }
   ],
   "source": [
    "hgbr = HistGradientBoostingRegressor(max_iter= 150,min_samples_leaf= 4,max_leaf_nodes= 40, max_depth= 16)\n",
    "hgbr.fit(X_train, Y_train.values.ravel())"
   ]
  },
  {
   "cell_type": "code",
   "execution_count": 88,
   "metadata": {},
   "outputs": [
    {
     "name": "stdout",
     "output_type": "stream",
     "text": [
      "r2-score on train set :  0.9922817588459242\n",
      "r2-score on test set :  0.9603295062821063\n"
     ]
    }
   ],
   "source": [
    "train_pred = hgbr.predict(X_train)\n",
    "test_pred = hgbr.predict(X_test)\n",
    "\n",
    "pred_hgbr_ba_4 = r2_score(Y_test, test_pred)\n",
    "print(\"r2-score on train set : \", r2_score(Y_train, train_pred))\n",
    "print(\"r2-score on test set : \", pred_hgbr_ba_4)"
   ]
  },
  {
   "cell_type": "markdown",
   "metadata": {},
   "source": [
    "Adding features that include measurements from diameter of trees and total volume yields much better results, which is not surprising as the two are mathematically connected to the <a href=\"https://en.wikipedia.org/wiki/Basal_area\">basal area</a> we are looking for.<br>\n",
    "Meteorological and satellite data (caveat : at the resolution available for public research) are not a sufficient substitute for field data collection.\n",
    "<br>"
   ]
  },
  {
   "cell_type": "markdown",
   "metadata": {},
   "source": [
    "Given the very few different observations for each feature, we can't get good results from time series predictions.<br>\n",
    "Our few tests proved even less effective than simply keeping the values from the previous collection campaign ! (shown below)"
   ]
  },
  {
   "cell_type": "code",
   "execution_count": 57,
   "metadata": {},
   "outputs": [
    {
     "name": "stdout",
     "output_type": "stream",
     "text": [
      "r2-score on train set :  0.6275905847214268\n"
     ]
    }
   ],
   "source": [
    "LFI3 = data[data['LFI']=='LFI3']\n",
    "LFI4 = data[data['LFI']=='LFI4']\n",
    "\n",
    "pred = LFI3['SURF_TER_HA']\n",
    "real = LFI4['SURF_TER_HA']\n",
    "\n",
    "print(\"r2-score on train set : \", r2_score(real, pred))"
   ]
  },
  {
   "cell_type": "code",
   "execution_count": 56,
   "metadata": {},
   "outputs": [
    {
     "name": "stdout",
     "output_type": "stream",
     "text": [
      "r2-score on train set :  0.4587315517255523\n"
     ]
    }
   ],
   "source": [
    "pred = LFI3[LFI3['TAUX_COUV_RAJ']>=0]['TAUX_COUV_RAJ']\n",
    "real = LFI4[LFI4['TAUX_COUV_RAJ']>=0]['TAUX_COUV_RAJ']\n",
    "\n",
    "print(\"r2-score on train set : \", f1_score(real, pred,average=\"weighted\"))"
   ]
  },
  {
   "cell_type": "markdown",
   "metadata": {},
   "source": [
    "Exporting results"
   ]
  },
  {
   "cell_type": "code",
   "execution_count": 156,
   "metadata": {},
   "outputs": [],
   "source": [
    "scores = [{\"model\": \"hgbr\",\"metric\":\"R2\", \"score\": pred_hgbr_ba_1, \"target\":\"SURF_TER_HA\", \"model_name\": \"Hist Gradient Boost Regressor, Default\"},\n",
    "            {\"model\": \"hgbr\",\"metric\":\"R2\", \"score\": pred_hgbr_ba_2, \"target\":\"SURF_TER_HA\",\"model_name\": \"Hist Gradient Boost Regressor, Optimized\"},\n",
    "            {\"model\": \"hgbr\",\"metric\":\"R2\", \"score\": pred_hgbr_ba_3, \"target\":\"SURF_TER_HA\",\"model_name\": \"Hist Gradient Boost Regressor, Satellite improved\"},\n",
    "            {\"model\": \"hgbr\",\"metric\":\"R2\", \"score\": pred_hgbr_ba_4, \"target\":\"SURF_TER_HA\",\"model_name\": \"Hist Gradient Boost Regressor, Field Data\"}]\n",
    "scores = pd.DataFrame(columns=[\"model\",\"metric\", \"score\",\"target\", \"model_name\"], data=scores)"
   ]
  },
  {
   "cell_type": "code",
   "execution_count": 157,
   "metadata": {},
   "outputs": [],
   "source": [
    "addendum_regen = [[\"hgbc\",\"F1\",pred_hgbc_regen_1,\"TAUX_COUV_RAJ\",\"Hist Gradient Boost Classifier, Default\"],\n",
    "            [\"hgbc\",\"F1\",pred_hgbc_regen_2,\"TAUX_COUV_RAJ\",\"Hist Gradient Boost Classifier, Optimized\"],\n",
    "            [\"catnb\",\"F1\",pred_cat_nb_1,\"TAUX_COUV_RAJ\",\"Categorical Naive Bayes\"],\n",
    "            [\"hgbr\",\"R2\",pred_hgbr_regen_1,\"TAUX_COUV_RAJ\",\"Hist Gradient Boost Regressor, Optimized\"]]"
   ]
  },
  {
   "cell_type": "code",
   "execution_count": 158,
   "metadata": {},
   "outputs": [],
   "source": [
    "for i in range(len(addendum_regen)):\n",
    "    scores.loc[len(scores)] = addendum_regen[i]"
   ]
  },
  {
   "cell_type": "code",
   "execution_count": 159,
   "metadata": {},
   "outputs": [],
   "source": [
    "addendum_growth = [[\"hgbr\",\"R2\",pred_hgbr_growth_1,\"ACCR\",\"Hist Gradient Boost Regressor, Default\"],\n",
    "            [\"hgbr\",\"R2\",pred_hgbr_growth_2,\"ACCR\",\"Hist Gradient Boost Regressor, Optimized\"],\n",
    "            [\"hgbr\",\"R2\",pred_hgbr_growth_3,\"ACCR\",\"Hist Gradient Boost Regressor, Field Data\"]]"
   ]
  },
  {
   "cell_type": "code",
   "execution_count": 160,
   "metadata": {},
   "outputs": [],
   "source": [
    "for i in range(len(addendum_growth)):\n",
    "    scores.loc[len(scores)] = addendum_growth[i]"
   ]
  },
  {
   "cell_type": "code",
   "execution_count": 161,
   "metadata": {},
   "outputs": [
    {
     "data": {
      "text/html": [
       "<div>\n",
       "<style scoped>\n",
       "    .dataframe tbody tr th:only-of-type {\n",
       "        vertical-align: middle;\n",
       "    }\n",
       "\n",
       "    .dataframe tbody tr th {\n",
       "        vertical-align: top;\n",
       "    }\n",
       "\n",
       "    .dataframe thead th {\n",
       "        text-align: right;\n",
       "    }\n",
       "</style>\n",
       "<table border=\"1\" class=\"dataframe\">\n",
       "  <thead>\n",
       "    <tr style=\"text-align: right;\">\n",
       "      <th></th>\n",
       "      <th>model</th>\n",
       "      <th>metric</th>\n",
       "      <th>score</th>\n",
       "      <th>target</th>\n",
       "      <th>model_name</th>\n",
       "    </tr>\n",
       "  </thead>\n",
       "  <tbody>\n",
       "    <tr>\n",
       "      <th>0</th>\n",
       "      <td>hgbr</td>\n",
       "      <td>R2</td>\n",
       "      <td>0.424946</td>\n",
       "      <td>SURF_TER_HA</td>\n",
       "      <td>Hist Gradient Boost Regressor, Default</td>\n",
       "    </tr>\n",
       "    <tr>\n",
       "      <th>1</th>\n",
       "      <td>hgbr</td>\n",
       "      <td>R2</td>\n",
       "      <td>0.459226</td>\n",
       "      <td>SURF_TER_HA</td>\n",
       "      <td>Hist Gradient Boost Regressor, Optimized</td>\n",
       "    </tr>\n",
       "    <tr>\n",
       "      <th>2</th>\n",
       "      <td>hgbr</td>\n",
       "      <td>R2</td>\n",
       "      <td>0.470135</td>\n",
       "      <td>SURF_TER_HA</td>\n",
       "      <td>Hist Gradient Boost Regressor, Satellite improved</td>\n",
       "    </tr>\n",
       "    <tr>\n",
       "      <th>3</th>\n",
       "      <td>hgbr</td>\n",
       "      <td>R2</td>\n",
       "      <td>0.960330</td>\n",
       "      <td>SURF_TER_HA</td>\n",
       "      <td>Hist Gradient Boost Regressor, Field Data</td>\n",
       "    </tr>\n",
       "    <tr>\n",
       "      <th>4</th>\n",
       "      <td>hgbc</td>\n",
       "      <td>F1</td>\n",
       "      <td>0.589490</td>\n",
       "      <td>TAUX_COUV_RAJ</td>\n",
       "      <td>Hist Gradient Boost Classifier, Default</td>\n",
       "    </tr>\n",
       "    <tr>\n",
       "      <th>5</th>\n",
       "      <td>hgbc</td>\n",
       "      <td>F1</td>\n",
       "      <td>0.614696</td>\n",
       "      <td>TAUX_COUV_RAJ</td>\n",
       "      <td>Hist Gradient Boost Classifier, Optimized</td>\n",
       "    </tr>\n",
       "    <tr>\n",
       "      <th>6</th>\n",
       "      <td>catnb</td>\n",
       "      <td>F1</td>\n",
       "      <td>0.447388</td>\n",
       "      <td>TAUX_COUV_RAJ</td>\n",
       "      <td>Categorical Naive Bayes</td>\n",
       "    </tr>\n",
       "    <tr>\n",
       "      <th>7</th>\n",
       "      <td>hgbr</td>\n",
       "      <td>R2</td>\n",
       "      <td>0.870567</td>\n",
       "      <td>TAUX_COUV_RAJ</td>\n",
       "      <td>Hist Gradient Boost Regressor, Optimized</td>\n",
       "    </tr>\n",
       "    <tr>\n",
       "      <th>8</th>\n",
       "      <td>hgbr</td>\n",
       "      <td>R2</td>\n",
       "      <td>0.162562</td>\n",
       "      <td>ACCR</td>\n",
       "      <td>Hist Gradient Boost Regressor, Default</td>\n",
       "    </tr>\n",
       "    <tr>\n",
       "      <th>9</th>\n",
       "      <td>hgbr</td>\n",
       "      <td>R2</td>\n",
       "      <td>0.179228</td>\n",
       "      <td>ACCR</td>\n",
       "      <td>Hist Gradient Boost Regressor, Optimized</td>\n",
       "    </tr>\n",
       "    <tr>\n",
       "      <th>10</th>\n",
       "      <td>hgbr</td>\n",
       "      <td>R2</td>\n",
       "      <td>0.299994</td>\n",
       "      <td>ACCR</td>\n",
       "      <td>Hist Gradient Boost Regressor, Field Data</td>\n",
       "    </tr>\n",
       "  </tbody>\n",
       "</table>\n",
       "</div>"
      ],
      "text/plain": [
       "    model metric     score         target  \\\n",
       "0    hgbr     R2  0.424946    SURF_TER_HA   \n",
       "1    hgbr     R2  0.459226    SURF_TER_HA   \n",
       "2    hgbr     R2  0.470135    SURF_TER_HA   \n",
       "3    hgbr     R2  0.960330    SURF_TER_HA   \n",
       "4    hgbc     F1  0.589490  TAUX_COUV_RAJ   \n",
       "5    hgbc     F1  0.614696  TAUX_COUV_RAJ   \n",
       "6   catnb     F1  0.447388  TAUX_COUV_RAJ   \n",
       "7    hgbr     R2  0.870567  TAUX_COUV_RAJ   \n",
       "8    hgbr     R2  0.162562           ACCR   \n",
       "9    hgbr     R2  0.179228           ACCR   \n",
       "10   hgbr     R2  0.299994           ACCR   \n",
       "\n",
       "                                           model_name  \n",
       "0              Hist Gradient Boost Regressor, Default  \n",
       "1            Hist Gradient Boost Regressor, Optimized  \n",
       "2   Hist Gradient Boost Regressor, Satellite improved  \n",
       "3           Hist Gradient Boost Regressor, Field Data  \n",
       "4             Hist Gradient Boost Classifier, Default  \n",
       "5           Hist Gradient Boost Classifier, Optimized  \n",
       "6                             Categorical Naive Bayes  \n",
       "7            Hist Gradient Boost Regressor, Optimized  \n",
       "8              Hist Gradient Boost Regressor, Default  \n",
       "9            Hist Gradient Boost Regressor, Optimized  \n",
       "10          Hist Gradient Boost Regressor, Field Data  "
      ]
     },
     "execution_count": 161,
     "metadata": {},
     "output_type": "execute_result"
    }
   ],
   "source": [
    "scores"
   ]
  },
  {
   "cell_type": "code",
   "execution_count": 2,
   "metadata": {},
   "outputs": [],
   "source": [
    "scores = pd.read_csv('backup/scores.csv')"
   ]
  },
  {
   "cell_type": "code",
   "execution_count": 3,
   "metadata": {},
   "outputs": [
    {
     "data": {
      "image/png": "[encoded data removed]"
     },
     "metadata": {},
     "output_type": "display_data"
    }
   ],
   "source": [
    "fig = px.bar(x=\"model_name\", y = \"score\", data_frame=scores,text='metric',color='target',facet_row='target',\n",
    "             labels={\"model_name\":\"Model tested\", \"score\":\"R2 or F1 score\"},\n",
    "             width=1000,height=700)\n",
    "fig.update_layout(title=\"Descriptive models\")\n",
    "fig.show('png')"
   ]
  },
  {
   "cell_type": "markdown",
   "metadata": {},
   "source": [
    "Other things to try, with more time : \n",
    "- Obtain or infer (interpolate) more data points to improve our models and try new ones.\n",
    "This would likely also require to scale observations to an interval (campaigns and data collection within is not regularized).\n",
    "\n",
    "- From that point, given sufficient data points and robust understanding of the data, we could build RNN models with GRU layers and predict future growth."
   ]
  }
 ],
 "metadata": {
  "kernelspec": {
   "display_name": "Python 3.9.13 64-bit (microsoft store)",
   "language": "python",
   "name": "python3"
  },
  "language_info": {
   "codemirror_mode": {
    "name": "ipython",
    "version": 3
   },
   "file_extension": ".py",
   "mimetype": "text/x-python",
   "name": "python",
   "nbconvert_exporter": "python",
   "pygments_lexer": "ipython3",
   "version": "3.9.13"
  },
  "orig_nbformat": 4,
  "vscode": {
   "interpreter": {
    "hash": "ca585fe95be477a0c29b6da1540b202df0c520c5083081cb336e969485254a81"
   }
  }
 },
 "nbformat": 4,
 "nbformat_minor": 2
}
