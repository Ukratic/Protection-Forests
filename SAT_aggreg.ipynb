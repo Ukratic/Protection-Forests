{
 "cells": [
  {
   "cell_type": "markdown",
   "metadata": {},
   "source": [
    "## UTILITARY SCRIPT TO CONVERT IMAGES IN AGGREGATED DATA"
   ]
  },
  {
   "cell_type": "code",
   "execution_count": 1,
   "metadata": {},
   "outputs": [],
   "source": [
    "import pandas as pd\n",
    "import numpy as np\n",
    "import json\n",
    "import itertools\n",
    "import copy"
   ]
  },
  {
   "cell_type": "code",
   "execution_count": 2,
   "metadata": {},
   "outputs": [],
   "source": [
    "DIM_AGREGATION = 25 # X 25 meters"
   ]
  },
  {
   "cell_type": "code",
   "execution_count": 3,
   "metadata": {},
   "outputs": [],
   "source": [
    "df = pd.read_excel('data/data_parcelles_with_gps.xlsx')"
   ]
  },
  {
   "cell_type": "code",
   "execution_count": 4,
   "metadata": {},
   "outputs": [],
   "source": [
    "df_base = df[['PARCELLE','LFI']]"
   ]
  },
  {
   "cell_type": "code",
   "execution_count": 10,
   "metadata": {},
   "outputs": [],
   "source": [
    "LFI = 2 # define the campaign\n",
    "\n",
    "one_plot = '114309' #the name of a plot of the dict"
   ]
  },
  {
   "cell_type": "markdown",
   "metadata": {},
   "source": [
    "### Convert from one JSON file"
   ]
  },
  {
   "cell_type": "code",
   "execution_count": 6,
   "metadata": {},
   "outputs": [],
   "source": [
    "with open(f\"data/Images_LANDSAT_LFI{LFI}_pb1.json\", 'r') as openfile:\n",
    " \n",
    "    data = json.load(openfile)"
   ]
  },
  {
   "cell_type": "code",
   "execution_count": 7,
   "metadata": {},
   "outputs": [
    {
     "data": {
      "text/plain": [
       "29"
      ]
     },
     "execution_count": 7,
     "metadata": {},
     "output_type": "execute_result"
    }
   ],
   "source": [
    "len(data)"
   ]
  },
  {
   "cell_type": "code",
   "execution_count": 11,
   "metadata": {},
   "outputs": [
    {
     "data": {
      "text/plain": [
       "'LFI2'"
      ]
     },
     "execution_count": 11,
     "metadata": {},
     "output_type": "execute_result"
    }
   ],
   "source": [
    "data[one_plot]['LFI']"
   ]
  },
  {
   "cell_type": "code",
   "execution_count": 12,
   "metadata": {},
   "outputs": [
    {
     "data": {
      "text/plain": [
       "(200, 200)"
      ]
     },
     "execution_count": 12,
     "metadata": {},
     "output_type": "execute_result"
    }
   ],
   "source": [
    "np.shape(data[one_plot]['IMAGES_SAT']['NDVI'])"
   ]
  },
  {
   "cell_type": "code",
   "execution_count": 13,
   "metadata": {},
   "outputs": [],
   "source": [
    "LFI = data[one_plot]['LFI']\n",
    "df_result = df_base.loc[df_base['LFI']==LFI,:].reset_index(drop=True)"
   ]
  },
  {
   "cell_type": "code",
   "execution_count": 14,
   "metadata": {},
   "outputs": [],
   "source": [
    "nb_parc = len(df_result)\n",
    "problematic_plots = []\n",
    "list_plots = df_result['PARCELLE'].tolist()\n",
    "width = np.shape(data[one_plot]['IMAGES_SAT']['NDVI'])[0]\n",
    "height = np.shape(data[one_plot]['IMAGES_SAT']['NDVI'])[1]\n",
    "range_w = np.arange(int((width - DIM_AGREGATION)/2), int((width + DIM_AGREGATION)/2))\n",
    "range_h = np.arange(int((height - DIM_AGREGATION)/2), int((height + DIM_AGREGATION)/2))\n",
    "ndvi_arr = np.empty(nb_parc)\n",
    "evi_arr = np.empty(nb_parc)\n",
    "ndmi_arr = np.empty(nb_parc)\n",
    "ndwi_arr = np.empty(nb_parc)\n",
    "dswi_arr = np.empty(nb_parc)\n",
    "MAPPING = {\n",
    "    'NDVI' : ndvi_arr,\n",
    "    'EVI' : evi_arr,\n",
    "    'NDMI' : ndmi_arr,\n",
    "    'NDWI' : ndwi_arr,\n",
    "    'DSWI' : dswi_arr\n",
    "}\n",
    "\n",
    "for ind, parc in enumerate(list_plots):\n",
    "    try:\n",
    "        for func_name, arr in MAPPING.items():\n",
    "            pixel_values = data[str(parc)]['IMAGES_SAT'][func_name]\n",
    "            arr[ind] = round(np.mean([pixel_values[tupl[0]][tupl[1]] for tupl in list(itertools.product(range_w,range_h))]),4)\n",
    "    except:\n",
    "        problematic_plots.append(parc)\n",
    "        for _ , arr in MAPPING.items():\n",
    "            arr[ind] = np.nan\n",
    "\n",
    "df_result['NDVI'] = ndvi_arr\n",
    "df_result['EVI'] = evi_arr\n",
    "df_result['NDMI'] = ndmi_arr\n",
    "df_result['NDWI'] = ndwi_arr\n",
    "df_result['DSWI'] = dswi_arr"
   ]
  },
  {
   "cell_type": "code",
   "execution_count": 15,
   "metadata": {},
   "outputs": [
    {
     "data": {
      "text/plain": [
       "2374"
      ]
     },
     "execution_count": 15,
     "metadata": {},
     "output_type": "execute_result"
    }
   ],
   "source": [
    "df_result['DSWI'].isnull().sum()"
   ]
  },
  {
   "cell_type": "code",
   "execution_count": 16,
   "metadata": {},
   "outputs": [
    {
     "data": {
      "text/plain": [
       "2374"
      ]
     },
     "execution_count": 16,
     "metadata": {},
     "output_type": "execute_result"
    }
   ],
   "source": [
    "len(problematic_plots)"
   ]
  },
  {
   "cell_type": "code",
   "execution_count": 17,
   "metadata": {},
   "outputs": [],
   "source": [
    "df_result.to_excel(f'./data/Data_from_satellites_images_{LFI}_pb1.xlsx')"
   ]
  },
  {
   "cell_type": "markdown",
   "metadata": {},
   "source": [
    "### Convert from multiple JSON files"
   ]
  },
  {
   "cell_type": "code",
   "execution_count": 18,
   "metadata": {},
   "outputs": [],
   "source": [
    "nb_parts = 8 # numbers of files\n",
    "\n",
    "LFI_name = 'LFI2'\n",
    "\n",
    "LFI = 2\n",
    "\n",
    "width = 200 # of initial images\n",
    "\n",
    "height = 200 # of initial images"
   ]
  },
  {
   "cell_type": "code",
   "execution_count": null,
   "metadata": {},
   "outputs": [],
   "source": [
    "df_result_base = df_base.loc[df_base['LFI']==LFI_name,:].reset_index(drop=True)\n",
    "dataframes_results = []\n",
    "nb_parc = len(df_result_base)\n",
    "list_plots = df_result_base['PARCELLE'].tolist()\n",
    "range_w = np.arange(int((width - DIM_AGREGATION)/2), int((width + DIM_AGREGATION)/2))\n",
    "range_h = np.arange(int((height - DIM_AGREGATION)/2), int((height + DIM_AGREGATION)/2))\n",
    "\n",
    "\n",
    "for i in range(nb_parts):\n",
    "    try:\n",
    "        with open(f\"data/Images_LANDSAT_LFI{LFI}_part{i+1}.json\", 'r') as openfile:\n",
    "            data = json.load(openfile)\n",
    "        print(f'Opening file part {i+1} with length {len(data)} ...')\n",
    "\n",
    "        empty_plots = []\n",
    "        df_result = copy.copy(df_result_base)\n",
    "        ndvi_arr = np.empty(nb_parc)\n",
    "        evi_arr = np.empty(nb_parc)\n",
    "        ndmi_arr = np.empty(nb_parc)\n",
    "        ndwi_arr = np.empty(nb_parc)\n",
    "        dswi_arr = np.empty(nb_parc)\n",
    "        MAPPING = {\n",
    "            'NDVI' : ndvi_arr,\n",
    "            'EVI' : evi_arr,\n",
    "            'NDMI' : ndmi_arr,\n",
    "            'NDWI' : ndwi_arr,\n",
    "            'DSWI' : dswi_arr\n",
    "        }\n",
    "\n",
    "        print('Conversion and aggregation...')\n",
    "        try:\n",
    "            for ind, parc in enumerate(list_plots):\n",
    "                try:\n",
    "                    for func_name, arr in MAPPING.items():\n",
    "                        pixel_values = np.empty(2)\n",
    "                        pixel_values = data[str(parc)]['IMAGES_SAT'][func_name]\n",
    "                        arr[ind] = round(np.mean([pixel_values[tupl[0]][tupl[1]] for tupl in list(itertools.product(range_w,range_h))]),4)\n",
    "                except:\n",
    "                    empty_plots.append(parc)\n",
    "                    for _ , arr in MAPPING.items():\n",
    "                        arr[ind] = np.nan\n",
    "        except:\n",
    "            print(f'Conversion\\'s problem with file part {i+i} ...')\n",
    "\n",
    "        print('Creation of a dataframe...')\n",
    "                \n",
    "        df_result['NDVI'] = ndvi_arr\n",
    "        df_result['EVI'] = evi_arr\n",
    "        df_result['NDMI'] = ndmi_arr\n",
    "        df_result['NDWI'] = ndwi_arr\n",
    "        df_result['DSWI'] = dswi_arr\n",
    "\n",
    "        dataframes_results.append(df_result)\n",
    "\n",
    "        print(f\"Difference of empty data for NDVI : {len(empty_plots) - df_result['NDVI'].isnull().sum()}\")\n",
    "        print(f\"Difference of empty data for EVI : {len(empty_plots) - df_result['EVI'].isnull().sum()}\")\n",
    "        print(f\"Difference of empty data for NDMI : {len(empty_plots) - df_result['NDMI'].isnull().sum()}\")\n",
    "        print(f\"Difference of empty data for NDWI : {len(empty_plots) - df_result['NDWI'].isnull().sum()}\")\n",
    "        print(f\"Difference of empty data for DSWI : {len(empty_plots) - df_result['DSWI'].isnull().sum()}\")\n",
    "\n",
    "    except:\n",
    "        print(f'Opening problem with file part {i+i} ...')\n",
    "    print('Done...')\n",
    "print('Finish...')              "
   ]
  },
  {
   "cell_type": "code",
   "execution_count": null,
   "metadata": {},
   "outputs": [],
   "source": [
    "nb_lines = len(df_result_base)\n",
    "result_arr = np.empty((nb_lines,5))\n",
    "\n",
    "for i in range(nb_parts):\n",
    "    c=0\n",
    "    arr = np.empty((nb_lines,5))\n",
    "    arr = dataframes_results[i].iloc[:,2:].to_numpy()\n",
    "    for line in range(nb_lines):\n",
    "        for col in range(5):\n",
    "            if str(arr[line][col]) != 'nan':\n",
    "                result_arr[line][col] = copy.copy(arr[line][col])\n",
    "                c+=1\n",
    "    print(f'Join n°{i} : {c} data copied ...')\n",
    "    "
   ]
  },
  {
   "cell_type": "code",
   "execution_count": null,
   "metadata": {},
   "outputs": [],
   "source": [
    "df_result = copy.copy(df_result_base)\n",
    "df_result[['NDVI','EVI','NDMI','NDWI','DSWI']] = result_arr\n",
    "df_result"
   ]
  },
  {
   "cell_type": "code",
   "execution_count": null,
   "metadata": {},
   "outputs": [],
   "source": [
    "df_result.loc[df_result['PARCELLE']==12298,:]"
   ]
  },
  {
   "cell_type": "code",
   "execution_count": null,
   "metadata": {},
   "outputs": [],
   "source": [
    "df_result.to_excel(f'./data/Data_from_satellites_images_{LFI_name}.xlsx')"
   ]
  }
 ],
 "metadata": {
  "kernelspec": {
   "display_name": "Python 3.9.13 64-bit (microsoft store)",
   "language": "python",
   "name": "python3"
  },
  "language_info": {
   "codemirror_mode": {
    "name": "ipython",
    "version": 3
   },
   "file_extension": ".py",
   "mimetype": "text/x-python",
   "name": "python",
   "nbconvert_exporter": "python",
   "pygments_lexer": "ipython3",
   "version": "3.9.13"
  },
  "orig_nbformat": 4,
  "vscode": {
   "interpreter": {
    "hash": "ca585fe95be477a0c29b6da1540b202df0c520c5083081cb336e969485254a81"
   }
  }
 },
 "nbformat": 4,
 "nbformat_minor": 2
}
